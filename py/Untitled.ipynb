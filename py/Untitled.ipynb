{
 "cells": [
  {
   "cell_type": "code",
   "execution_count": 3,
   "metadata": {},
   "outputs": [],
   "source": [
    "from PIL import Image\n",
    "import os, glob\n",
    "import numpy as np\n",
    "from sklearn import cross_validation\n",
    "\n",
    "classes = [\"building\", \"person\", \"tree\"]\n",
    "num_of_classes = len(classes)\n",
    "image_size = 50\n",
    "\n",
    "# Read images\n",
    "X = []\n",
    "Y = []\n",
    "for class_index, class_label in enumerate(classes):\n",
    "    images_dir = \"../images/\" + class_label\n",
    "    images = glob.glob(images_dir + \"/*.jpg\")\n",
    "    for i, target_image in enumerate(images):\n",
    "        if i >= 250: break\n",
    "        image = Image.open(target_image)\n",
    "        image = image.convert(\"RGB\")\n",
    "        image = image.resize((image_size, image_size))\n",
    "        image_data = np.asarray(image)\n",
    "        X.append(image_data)\n",
    "        Y.append(class_index)\n",
    "    # end for\n",
    "# end for\n",
    "\n",
    "# Convert List to NumPy array\n",
    "X = np.array(X)\n",
    "Y = np.array(Y)"
   ]
  },
  {
   "cell_type": "code",
   "execution_count": 4,
   "metadata": {},
   "outputs": [
    {
     "data": {
      "text/plain": [
       "array([[[206, 168, 157],\n",
       "        [203, 163, 153],\n",
       "        [216, 177, 162],\n",
       "        ...,\n",
       "        [190, 176, 212],\n",
       "        [191, 177, 213],\n",
       "        [179, 166, 210]],\n",
       "\n",
       "       [[239, 194, 173],\n",
       "        [215, 174, 156],\n",
       "        [227, 185, 171],\n",
       "        ...,\n",
       "        [175, 166, 213],\n",
       "        [152, 146, 206],\n",
       "        [141, 137, 196]],\n",
       "\n",
       "       [[242, 205, 179],\n",
       "        [242, 202, 176],\n",
       "        [248, 205, 186],\n",
       "        ...,\n",
       "        [107, 124, 204],\n",
       "        [117, 125, 197],\n",
       "        [125, 130, 196]],\n",
       "\n",
       "       ...,\n",
       "\n",
       "       [[ 19,  27,   6],\n",
       "        [ 48,  52,  19],\n",
       "        [ 47,  52,  30],\n",
       "        ...,\n",
       "        [ 14,  18,   4],\n",
       "        [ 22,  28,  16],\n",
       "        [ 13,  19,   7]],\n",
       "\n",
       "       [[ 55,  60,  28],\n",
       "        [ 37,  41,  14],\n",
       "        [ 55,  57,  18],\n",
       "        ...,\n",
       "        [ 19,  27,   6],\n",
       "        [  9,  12,   3],\n",
       "        [  6,   9,   0]],\n",
       "\n",
       "       [[ 31,  36,  13],\n",
       "        [ 10,  18,   0],\n",
       "        [ 30,  35,  15],\n",
       "        ...,\n",
       "        [ 18,  25,   7],\n",
       "        [ 20,  26,  12],\n",
       "        [  2,   7,   0]]], dtype=uint8)"
      ]
     },
     "execution_count": 4,
     "metadata": {},
     "output_type": "execute_result"
    }
   ],
   "source": [
    "X[0]"
   ]
  },
  {
   "cell_type": "code",
   "execution_count": 5,
   "metadata": {},
   "outputs": [
    {
     "data": {
      "text/plain": [
       "750"
      ]
     },
     "execution_count": 5,
     "metadata": {},
     "output_type": "execute_result"
    }
   ],
   "source": [
    "len(X)"
   ]
  },
  {
   "cell_type": "code",
   "execution_count": 6,
   "metadata": {},
   "outputs": [
    {
     "data": {
      "text/plain": [
       "750"
      ]
     },
     "execution_count": 6,
     "metadata": {},
     "output_type": "execute_result"
    }
   ],
   "source": [
    "len(Y)"
   ]
  },
  {
   "cell_type": "code",
   "execution_count": 7,
   "metadata": {},
   "outputs": [
    {
     "data": {
      "text/plain": [
       "1"
      ]
     },
     "execution_count": 7,
     "metadata": {},
     "output_type": "execute_result"
    }
   ],
   "source": [
    "Y[250]"
   ]
  },
  {
   "cell_type": "code",
   "execution_count": 8,
   "metadata": {},
   "outputs": [
    {
     "data": {
      "text/plain": [
       "0"
      ]
     },
     "execution_count": 8,
     "metadata": {},
     "output_type": "execute_result"
    }
   ],
   "source": [
    "Y[0]"
   ]
  },
  {
   "cell_type": "code",
   "execution_count": 9,
   "metadata": {},
   "outputs": [
    {
     "data": {
      "text/plain": [
       "1"
      ]
     },
     "execution_count": 9,
     "metadata": {},
     "output_type": "execute_result"
    }
   ],
   "source": [
    "Y[499]"
   ]
  },
  {
   "cell_type": "code",
   "execution_count": 10,
   "metadata": {},
   "outputs": [
    {
     "data": {
      "text/plain": [
       "2"
      ]
     },
     "execution_count": 10,
     "metadata": {},
     "output_type": "execute_result"
    }
   ],
   "source": [
    "Y[500]"
   ]
  },
  {
   "cell_type": "code",
   "execution_count": null,
   "metadata": {},
   "outputs": [],
   "source": []
  }
 ],
 "metadata": {
  "kernelspec": {
   "display_name": "Python 3",
   "language": "python",
   "name": "python3"
  },
  "language_info": {
   "codemirror_mode": {
    "name": "ipython",
    "version": 3
   },
   "file_extension": ".py",
   "mimetype": "text/x-python",
   "name": "python",
   "nbconvert_exporter": "python",
   "pygments_lexer": "ipython3",
   "version": "3.6.5"
  }
 },
 "nbformat": 4,
 "nbformat_minor": 2
}
